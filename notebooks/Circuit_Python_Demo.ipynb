{
 "cells": [
  {
   "cell_type": "markdown",
   "id": "current-collar",
   "metadata": {},
   "source": [
    "# Circuit Python /Circuit Playground Express Demo\n",
    "\n",
    "\n",
    "Simple demo of getting things running in a Jupyter notebook running a Circuit Python kernel on a computer connected to a Circuit Playground Express.\n",
    "\n",
    "Note that you should not have any other notebooks running with the Circuit Python kernel, or any editors such as the Mu editor connected to the Circuit Playground Express when running this notebook.\n",
    "\n",
    "For more details on getting started, see https://ouseful-testing.github.io/circuit-playground-express/ [[repo](https://github.com/ouseful-testing/circuit-playground-express)]."
   ]
  },
  {
   "cell_type": "markdown",
   "id": "sweet-computer",
   "metadata": {},
   "source": [
    "## Installing the kernel\n",
    "\n",
    "If you have not already install the Circuit Pyhton playground, you can do so by running the following commands in a notebook code cell:\n",
    "\n",
    "```\n",
    "%pip install git+https://github.com/adafruit/circuitpython_jupyter_kernel.git\n",
    "\n",
    "! python3 -m circuitpython_kernel.install\n",
    "```"
   ]
  },
  {
   "cell_type": "markdown",
   "id": "increasing-scene",
   "metadata": {},
   "source": [
    "## Is there Anybody There?\n",
    "\n",
    "Check to see if we are connected to a Circuit Pyhton device."
   ]
  },
  {
   "cell_type": "code",
   "execution_count": 1,
   "id": "proved-magic",
   "metadata": {},
   "outputs": [
    {
     "name": "stdout",
     "output_type": "stream",
     "text": [
      "(sysname='samd21', nodename='samd21', release='6.2.0', version='6.2.0 on 2021-04-05', machine='Adafruit CircuitPlayground Express with samd21g18')\r\n"
     ]
    }
   ],
   "source": [
    "import os\n",
    "print(os.uname())"
   ]
  },
  {
   "cell_type": "markdown",
   "id": "anonymous-personal",
   "metadata": {},
   "source": [
    "If the board doesn't respond, check the physical connection, click the tiny `RESET` button in the middle of the Circuit Python Express board a couple of times, wait a moment, then click it again. Then restart the notebook kernel from the notebook *Kernel* menu."
   ]
  },
  {
   "cell_type": "markdown",
   "id": "competitive-stationery",
   "metadata": {},
   "source": [
    "When writing code run on the Circuit Python Express device, we often bind resoruces in a particular way. To do a soft reboot of the device, and release all allocated resources, use the line magic:"
   ]
  },
  {
   "cell_type": "code",
   "execution_count": 4,
   "id": "right-burlington",
   "metadata": {},
   "outputs": [],
   "source": [
    "%softreset"
   ]
  },
  {
   "cell_type": "markdown",
   "id": "dedicated-tenant",
   "metadata": {},
   "source": [
    "## Hello Light\n",
    "\n",
    "A quick test to see if we can get the board to do something.\n",
    "\n",
    "Import some required packages:"
   ]
  },
  {
   "cell_type": "code",
   "execution_count": 2,
   "id": "careful-dividend",
   "metadata": {},
   "outputs": [],
   "source": [
    "import digitalio\n",
    "import board"
   ]
  },
  {
   "cell_type": "markdown",
   "id": "restricted-reality",
   "metadata": {},
   "source": [
    "Create a reference to the LED on the other side of the cable to the green power on LED, and set it as an output device:"
   ]
  },
  {
   "cell_type": "code",
   "execution_count": 2,
   "id": "afraid-heating",
   "metadata": {},
   "outputs": [],
   "source": [
    "cpx_led = digitalio.DigitalInOut(board.D13)\n",
    "\n",
    "cpx_led.direction = digitalio.Direction.OUTPUT"
   ]
  },
  {
   "cell_type": "markdown",
   "id": "outstanding-position",
   "metadata": {},
   "source": [
    "Now we should be able to turn it on:"
   ]
  },
  {
   "cell_type": "code",
   "execution_count": 4,
   "id": "canadian-cover",
   "metadata": {},
   "outputs": [],
   "source": [
    "cpx_led.value = True"
   ]
  },
  {
   "cell_type": "markdown",
   "id": "casual-administration",
   "metadata": {},
   "source": [
    "And turn it off again:"
   ]
  },
  {
   "cell_type": "code",
   "execution_count": 5,
   "id": "lightweight-oregon",
   "metadata": {},
   "outputs": [],
   "source": [
    "cpx_led.value = False"
   ]
  },
  {
   "cell_type": "markdown",
   "id": "dangerous-martial",
   "metadata": {},
   "source": [
    "## Reading Data fro the Circtui Python Express\n",
    "\n",
    "As well as a wide range of LEDs that we can use as output devices, the Circuit Python Express incorporates several sensors, including a simple light sensor.\n",
    "\n",
    "Let's see if we can hear from it...\n",
    "\n",
    "To give ourselves a clean working canvas, do a soft reset:"
   ]
  },
  {
   "cell_type": "code",
   "execution_count": null,
   "id": "bound-separate",
   "metadata": {},
   "outputs": [],
   "source": [
    "%softreset"
   ]
  },
  {
   "cell_type": "markdown",
   "id": "patient-footage",
   "metadata": {},
   "source": [
    "Set up a reference to the light sensor as an analogue device:"
   ]
  },
  {
   "cell_type": "code",
   "execution_count": null,
   "id": "related-potential",
   "metadata": {},
   "outputs": [],
   "source": [
    "import board\n",
    "import analogio\n",
    "\n",
    "light_=analogio.AnalogIn(board.LIGHT)"
   ]
  },
  {
   "cell_type": "markdown",
   "id": "institutional-pasta",
   "metadata": {},
   "source": [
    "Collect some data:"
   ]
  },
  {
   "cell_type": "code",
   "execution_count": 5,
   "id": "gothic-transport",
   "metadata": {},
   "outputs": [],
   "source": [
    "import time\n",
    "\n",
    "vals=[]\n",
    "for i in range(20):\n",
    "    vals.append((light_.value,))\n",
    "    time.sleep(0.1)"
   ]
  },
  {
   "cell_type": "markdown",
   "id": "protecting-amateur",
   "metadata": {},
   "source": [
    "It seems that IPython `__repr__` display methods are not currently defined to allow the display of output values in the notebook, but we can see the reponse:"
   ]
  },
  {
   "cell_type": "code",
   "execution_count": 8,
   "id": "invisible-scenario",
   "metadata": {},
   "outputs": [
    {
     "name": "stdout",
     "output_type": "stream",
     "text": [
      "[(752,), (512,), (736,), (672,), (720,), (736,), (720,), (704,), (720,), (752,), (720,), (640,), (736,), (544,), (720,), (720,), (736,), (448,), (768,), (720,)]\r\n"
     ]
    }
   ],
   "source": [
    "print(vals)"
   ]
  },
  {
   "cell_type": "markdown",
   "id": "congressional-constitution",
   "metadata": {},
   "source": [
    "At the moment, however, there seems to be little we can do with this?"
   ]
  },
  {
   "cell_type": "markdown",
   "id": "divided-lawsuit",
   "metadata": {},
   "source": [
    "## Integration with a Full Python Environment\n",
    "\n",
    "Some support is provided for accessing a full Python environment on the host computer using `%python` and `%%python` line and cell block magics repectively.\n",
    "\n",
    "However, this don't currently seem to return anything or display any output, and I'm not sure that you can pass anything into them at the moment (such as the `vals` variable we created above), so they're a bit limited at the moment.\n",
    "\n",
    "However, if we could pass variables into them and we could generate cell outputs, we should be able to analyse and chart collected data, for example.\n",
    "\n",
    "If the line magic particularly could further return a value, we could then perhaps call full Python scripts from Circuit Python, passing in Circuit Pyhthon variables as we do so.\n",
    "\n",
    "One to watch... Or may one to contribute to?"
   ]
  },
  {
   "cell_type": "markdown",
   "id": "right-frame",
   "metadata": {},
   "source": [
    "## Additional Circuit Python Packages\n",
    "\n",
    "There are various helper packages and demos available from [here](https://github.com/adafruit/Adafruit_CircuitPython_Bundle/releases/tag/20210506); see the [*Adafruit CircuitPython Library Bundle* docs](https://circuitpython.readthedocs.io/projects/bundle/en/latest/index.html) for more detail.\n",
    "\n",
    "Download, unzip, and have a rummage around. There are various packages defined in the `lib/` directory of the unzipped \"bundle\"; you can drag the ones you want over to the `CIRCUITPY` drive and pop them in the `lib/` directory there, then you can import them in the normal way. For example, if you copy over `lib/adafruit_led_animation`, you can `import adafruit_led_animation` (I'm not sure about the extent to which restarting either the editor(?!) or the device is required to make sure newly \"installed\" (i.e. copied over) packages are registered and available for import.\n",
    "\n",
    "The bundle also has a `requirements` directory that contains all sorts of stuff. I'm not sure if those items go in a `CIRCUITPY/requirements` directory, or how they are then referenced?"
   ]
  }
 ],
 "metadata": {
  "kernelspec": {
   "display_name": "CircuitPython",
   "language": "python",
   "name": "circuitpython"
  },
  "language_info": {
   "codemirror_mode": {
    "name": "python",
    "version": 3
   },
   "file_extension": ".py",
   "mimetype": "text/x-python",
   "name": "python",
   "pygments_lexer": "python3",
   "version": "3"
  }
 },
 "nbformat": 4,
 "nbformat_minor": 5
}
